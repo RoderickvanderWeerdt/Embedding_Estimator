{
 "cells": [
  {
   "cell_type": "code",
   "execution_count": 15,
   "id": "03d0334f",
   "metadata": {},
   "outputs": [
    {
     "name": "stdout",
     "output_type": "stream",
     "text": [
      "total original lines 1261111\n",
      "lines removed: 67804 \n",
      "lines saved  : 1193307\n"
     ]
    }
   ],
   "source": [
    "md = True\n",
    "dmg= False\n",
    "\n",
    "if md:\n",
    "    remove_datatypes = [\"http://kgbench.info/dt#base64Image\"]\n",
    "    old_filename = \"data/md_raw.nt\"\n",
    "    new_filename = \"data/md_raw_without_Images-.nt\"\n",
    "elif dmg:\n",
    "    remove_datatypes = [\"http://kgbench.info/dt#base64Image\", \"http://www.opengis.net/ont/geosparql#wktLiteral\"]\n",
    "    old_filename = \"data/dmg777k_stripped.nt\"\n",
    "    new_filename = \"data/dmg777k_stripped_without_thumbs_geo.nt\"\n",
    "\n",
    "with open(old_filename, 'r') as dmg:\n",
    "    dmg_lines = dmg.readlines()\n",
    "#     print(dmg.readline())\n",
    "    new_dmg_lines = []\n",
    "    remove_n_lines = 0\n",
    "    dont_remove = 0\n",
    "    for line in dmg_lines:\n",
    "        save_line = True\n",
    "        for remove_dt in remove_datatypes:\n",
    "            if line.endswith(\"^^<{}> .\\n\".format(remove_dt)):\n",
    "                save_line=False\n",
    "                remove_n_lines+=1\n",
    "                break\n",
    "        if save_line: \n",
    "            dont_remove+=1\n",
    "            new_dmg_lines.append(line)\n",
    "    print(\"total original lines\", len(dmg_lines))\n",
    "    print(\"lines removed:\", remove_n_lines, \"\\nlines saved  :\", dont_remove)\n",
    "    with open(new_filename, 'w') as new_dmg:\n",
    "        for line in new_dmg_lines:\n",
    "            new_dmg.write(line)"
   ]
  },
  {
   "cell_type": "code",
   "execution_count": 16,
   "id": "4bfd2ac2",
   "metadata": {},
   "outputs": [],
   "source": [
    "def get_props_by_datatype(graph_fn, datatype):\n",
    "    props_with_datatype = []\n",
    "    with open(graph_fn, 'r') as f:\n",
    "        f_lines = f.readlines()\n",
    "        for line in f_lines:\n",
    "            if line.endswith(\"^^<{}> .\\n\".format(datatype)):\n",
    "                line = line.split(' ')\n",
    "                props_with_datatype.append(line[1])\n",
    "\n",
    "    for prop in list(set(props_with_datatype)):\n",
    "        print(prop)"
   ]
  },
  {
   "cell_type": "code",
   "execution_count": 19,
   "id": "9814488c",
   "metadata": {},
   "outputs": [
    {
     "name": "stdout",
     "output_type": "stream",
     "text": [
      "<http://www.wikidata.org/prop/direct/P2142>\n",
      "<http://www.wikidata.org/prop/direct/P2130>\n",
      "<http://www.wikidata.org/prop/direct/P2048>\n",
      "<http://www.wikidata.org/prop/direct/P1971>\n",
      "<http://www.wikidata.org/prop/direct/P2047>\n",
      "<http://www.wikidata.org/prop/direct/P2067>\n"
     ]
    }
   ],
   "source": [
    "graph_fn = \"data/dmg777k_stripped.nt\"\n",
    "datatype = \"http://www.opengis.net/ont/geosparql#wktLiteral\"\n",
    "graph_fn = \"data/md_raw.nt\"\n",
    "datatype = \"http://www.w3.org/2001/XMLSchema#decimal\"\n",
    "\n",
    "get_props_by_datatype(graph_fn, datatype)"
   ]
  },
  {
   "cell_type": "code",
   "execution_count": null,
   "id": "619c8a2b",
   "metadata": {},
   "outputs": [],
   "source": []
  }
 ],
 "metadata": {
  "kernelspec": {
   "display_name": "Python 3 (ipykernel)",
   "language": "python",
   "name": "python3"
  },
  "language_info": {
   "codemirror_mode": {
    "name": "ipython",
    "version": 3
   },
   "file_extension": ".py",
   "mimetype": "text/x-python",
   "name": "python",
   "nbconvert_exporter": "python",
   "pygments_lexer": "ipython3",
   "version": "3.9.16"
  }
 },
 "nbformat": 4,
 "nbformat_minor": 5
}
