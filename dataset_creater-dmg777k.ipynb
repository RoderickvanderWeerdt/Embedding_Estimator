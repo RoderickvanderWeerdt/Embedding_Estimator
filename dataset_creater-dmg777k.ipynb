{
 "cells": [
  {
   "cell_type": "code",
   "execution_count": 1,
   "id": "b0421b00",
   "metadata": {},
   "outputs": [
    {
     "name": "stdout",
     "output_type": "stream",
     "text": [
      "Downloading dmg777k dataset.\n",
      "100% [..................................................] 397394415 / 397394415loaded data dmg777k (41.98s).\n"
     ]
    }
   ],
   "source": [
    "import kgbench as kg\n",
    "\n",
    "data = kg.load('dmg777k') # Load with numpy arrays, and train/validation split\n",
    "\n",
    "# data = kg.load('dmg777k', torch=True) # Load with pytorch arrays\n",
    "\n",
    "# data = kg.load('dmg777k', final=True) # Load with numpy arrays and train/test split\n"
   ]
  },
  {
   "cell_type": "code",
   "execution_count": 2,
   "id": "eb6ec17d",
   "metadata": {},
   "outputs": [
    {
     "name": "stdout",
     "output_type": "stream",
     "text": [
      "5\n"
     ]
    },
    {
     "data": {
      "text/plain": [
       "['iri',\n",
       " 'none',\n",
       " '@es',\n",
       " '@fy',\n",
       " '@nl',\n",
       " '@nl-nl',\n",
       " '@pt',\n",
       " '@ru',\n",
       " 'http://kgbench.info/dt#base64Image',\n",
       " 'http://www.opengis.net/ont/geosparql#wktLiteral',\n",
       " 'http://www.w3.org/2001/XMLSchema#anyURI',\n",
       " 'http://www.w3.org/2001/XMLSchema#boolean',\n",
       " 'http://www.w3.org/2001/XMLSchema#gYear',\n",
       " 'http://www.w3.org/2001/XMLSchema#nonNegativeInteger',\n",
       " 'http://www.w3.org/2001/XMLSchema#positiveInteger']"
      ]
     },
     "execution_count": 2,
     "metadata": {},
     "output_type": "execute_result"
    }
   ],
   "source": [
    "print(data.num_classes)\n",
    "data.datatypes()"
   ]
  },
  {
   "cell_type": "code",
   "execution_count": null,
   "id": "a23bd61e",
   "metadata": {},
   "outputs": [],
   "source": [
    "print(data.)"
   ]
  },
  {
   "cell_type": "code",
   "execution_count": 3,
   "id": "ce796961",
   "metadata": {},
   "outputs": [
    {
     "data": {
      "text/plain": [
       "array([[288312,      3],\n",
       "       [287116,      0],\n",
       "       [287208,      1],\n",
       "       ...,\n",
       "       [287084,      3],\n",
       "       [286606,      1],\n",
       "       [288132,      1]], dtype=int32)"
      ]
     },
     "execution_count": 3,
     "metadata": {},
     "output_type": "execute_result"
    }
   ],
   "source": [
    "data.withheld"
   ]
  },
  {
   "cell_type": "code",
   "execution_count": 4,
   "id": "05e637ae",
   "metadata": {},
   "outputs": [],
   "source": [
    "def create_uri_classes_lists(data, data_set):\n",
    "    list_of_uris = []\n",
    "    list_of_classes=[]\n",
    "    for data_instance in data_set:\n",
    "    #     print(data_instance)\n",
    "        list_of_uris.append(data.i2e[data_instance[0]][0])\n",
    "        list_of_classes.append(data_instance[1])\n",
    "    return list_of_uris, list_of_classes"
   ]
  },
  {
   "cell_type": "code",
   "execution_count": 5,
   "id": "d000e09f",
   "metadata": {},
   "outputs": [],
   "source": [
    "list_of_uris_train, list_of_classes_train = create_uri_classes_lists(data, data.training)"
   ]
  },
  {
   "cell_type": "code",
   "execution_count": 6,
   "id": "7c4f98ee",
   "metadata": {},
   "outputs": [],
   "source": [
    "list_of_uris, list_of_classes = create_uri_classes_lists(data, data.withheld)"
   ]
  },
  {
   "cell_type": "code",
   "execution_count": 7,
   "id": "b4a53fbe",
   "metadata": {},
   "outputs": [
    {
     "name": "stdout",
     "output_type": "stream",
     "text": [
      "https://data.labs.pdok.nl/rce/id/monument/8800 3\n",
      "https://data.labs.pdok.nl/rce/id/monument/529502 0\n",
      "https://data.labs.pdok.nl/rce/id/monument/532 1\n",
      "1001 1001\n",
      "https://data.labs.pdok.nl/rce/id/monument/36903 1\n",
      "https://data.labs.pdok.nl/rce/id/monument/24531 4\n",
      "https://data.labs.pdok.nl/rce/id/monument/27163 1\n",
      "5394 5394\n"
     ]
    }
   ],
   "source": [
    "def show_lists(list1, list2):\n",
    "    for i, (uri, y) in enumerate(zip(list1, list2)):\n",
    "        print(uri, y)\n",
    "        if i > 1:\n",
    "            break\n",
    "    print(len(list1), len(list2))\n",
    "    \n",
    "show_lists(list_of_uris, list_of_classes)\n",
    "show_lists(list_of_uris_train, list_of_classes_train)\n"
   ]
  },
  {
   "cell_type": "code",
   "execution_count": 8,
   "id": "588f0f44",
   "metadata": {},
   "outputs": [
    {
     "data": {
      "text/plain": [
       "('https://data.labs.pdok.nl/rce/id/monument/519146', 'iri')"
      ]
     },
     "execution_count": 8,
     "metadata": {},
     "output_type": "execute_result"
    }
   ],
   "source": [
    "data.i2e[286290]"
   ]
  },
  {
   "cell_type": "code",
   "execution_count": 9,
   "id": "87a927f9",
   "metadata": {},
   "outputs": [],
   "source": [
    "import time"
   ]
  },
  {
   "cell_type": "code",
   "execution_count": 10,
   "id": "677abf00",
   "metadata": {},
   "outputs": [
    {
     "name": "stderr",
     "output_type": "stream",
     "text": [
      "Failed to convert Literal lexical form to value. Datatype=http://www.w3.org/2001/XMLSchema#date, Converter=<function parse_date at 0x7f9ca4f30dc0>\n",
      "Traceback (most recent call last):\n",
      "  File \"/Users/roderickvanderweerdt/opt/anaconda3/envs/pykeen_env/lib/python3.9/site-packages/rdflib/term.py\", line 2084, in _castLexicalToPython\n",
      "    return conv_func(lexical)  # type: ignore[arg-type]\n",
      "  File \"/Users/roderickvanderweerdt/opt/anaconda3/envs/pykeen_env/lib/python3.9/site-packages/isodate/isodates.py\", line 201, in parse_date\n",
      "    return date(sign * int(groups['year']),\n",
      "ValueError: month must be in 1..12\n",
      "Failed to convert Literal lexical form to value. Datatype=http://www.w3.org/2001/XMLSchema#date, Converter=<function parse_date at 0x7f9ca4f30dc0>\n",
      "Traceback (most recent call last):\n",
      "  File \"/Users/roderickvanderweerdt/opt/anaconda3/envs/pykeen_env/lib/python3.9/site-packages/rdflib/term.py\", line 2084, in _castLexicalToPython\n",
      "    return conv_func(lexical)  # type: ignore[arg-type]\n",
      "  File \"/Users/roderickvanderweerdt/opt/anaconda3/envs/pykeen_env/lib/python3.9/site-packages/isodate/isodates.py\", line 201, in parse_date\n",
      "    return date(sign * int(groups['year']),\n",
      "ValueError: day is out of range for month\n",
      "Failed to convert Literal lexical form to value. Datatype=http://www.w3.org/2001/XMLSchema#date, Converter=<function parse_date at 0x7f9ca4f30dc0>\n",
      "Traceback (most recent call last):\n",
      "  File \"/Users/roderickvanderweerdt/opt/anaconda3/envs/pykeen_env/lib/python3.9/site-packages/rdflib/term.py\", line 2084, in _castLexicalToPython\n",
      "    return conv_func(lexical)  # type: ignore[arg-type]\n",
      "  File \"/Users/roderickvanderweerdt/opt/anaconda3/envs/pykeen_env/lib/python3.9/site-packages/isodate/isodates.py\", line 201, in parse_date\n",
      "    return date(sign * int(groups['year']),\n",
      "ValueError: month must be in 1..12\n",
      "Failed to convert Literal lexical form to value. Datatype=http://www.w3.org/2001/XMLSchema#date, Converter=<function parse_date at 0x7f9ca4f30dc0>\n",
      "Traceback (most recent call last):\n",
      "  File \"/Users/roderickvanderweerdt/opt/anaconda3/envs/pykeen_env/lib/python3.9/site-packages/rdflib/term.py\", line 2084, in _castLexicalToPython\n",
      "    return conv_func(lexical)  # type: ignore[arg-type]\n",
      "  File \"/Users/roderickvanderweerdt/opt/anaconda3/envs/pykeen_env/lib/python3.9/site-packages/isodate/isodates.py\", line 201, in parse_date\n",
      "    return date(sign * int(groups['year']),\n",
      "ValueError: month must be in 1..12\n",
      "Failed to convert Literal lexical form to value. Datatype=http://www.w3.org/2001/XMLSchema#date, Converter=<function parse_date at 0x7f9ca4f30dc0>\n",
      "Traceback (most recent call last):\n",
      "  File \"/Users/roderickvanderweerdt/opt/anaconda3/envs/pykeen_env/lib/python3.9/site-packages/rdflib/term.py\", line 2084, in _castLexicalToPython\n",
      "    return conv_func(lexical)  # type: ignore[arg-type]\n",
      "  File \"/Users/roderickvanderweerdt/opt/anaconda3/envs/pykeen_env/lib/python3.9/site-packages/isodate/isodates.py\", line 201, in parse_date\n",
      "    return date(sign * int(groups['year']),\n",
      "ValueError: month must be in 1..12\n",
      "Failed to convert Literal lexical form to value. Datatype=http://www.w3.org/2001/XMLSchema#date, Converter=<function parse_date at 0x7f9ca4f30dc0>\n",
      "Traceback (most recent call last):\n",
      "  File \"/Users/roderickvanderweerdt/opt/anaconda3/envs/pykeen_env/lib/python3.9/site-packages/rdflib/term.py\", line 2084, in _castLexicalToPython\n",
      "    return conv_func(lexical)  # type: ignore[arg-type]\n",
      "  File \"/Users/roderickvanderweerdt/opt/anaconda3/envs/pykeen_env/lib/python3.9/site-packages/isodate/isodates.py\", line 201, in parse_date\n",
      "    return date(sign * int(groups['year']),\n",
      "ValueError: day is out of range for month\n",
      "Failed to convert Literal lexical form to value. Datatype=http://www.w3.org/2001/XMLSchema#date, Converter=<function parse_date at 0x7f9ca4f30dc0>\n",
      "Traceback (most recent call last):\n",
      "  File \"/Users/roderickvanderweerdt/opt/anaconda3/envs/pykeen_env/lib/python3.9/site-packages/rdflib/term.py\", line 2084, in _castLexicalToPython\n",
      "    return conv_func(lexical)  # type: ignore[arg-type]\n",
      "  File \"/Users/roderickvanderweerdt/opt/anaconda3/envs/pykeen_env/lib/python3.9/site-packages/isodate/isodates.py\", line 201, in parse_date\n",
      "    return date(sign * int(groups['year']),\n",
      "ValueError: year 0 is out of range\n",
      "Failed to convert Literal lexical form to value. Datatype=http://www.w3.org/2001/XMLSchema#date, Converter=<function parse_date at 0x7f9ca4f30dc0>\n",
      "Traceback (most recent call last):\n",
      "  File \"/Users/roderickvanderweerdt/opt/anaconda3/envs/pykeen_env/lib/python3.9/site-packages/rdflib/term.py\", line 2084, in _castLexicalToPython\n",
      "    return conv_func(lexical)  # type: ignore[arg-type]\n",
      "  File \"/Users/roderickvanderweerdt/opt/anaconda3/envs/pykeen_env/lib/python3.9/site-packages/isodate/isodates.py\", line 201, in parse_date\n",
      "    return date(sign * int(groups['year']),\n",
      "ValueError: month must be in 1..12\n",
      "Failed to convert Literal lexical form to value. Datatype=http://www.w3.org/2001/XMLSchema#date, Converter=<function parse_date at 0x7f9ca4f30dc0>\n",
      "Traceback (most recent call last):\n",
      "  File \"/Users/roderickvanderweerdt/opt/anaconda3/envs/pykeen_env/lib/python3.9/site-packages/rdflib/term.py\", line 2084, in _castLexicalToPython\n",
      "    return conv_func(lexical)  # type: ignore[arg-type]\n",
      "  File \"/Users/roderickvanderweerdt/opt/anaconda3/envs/pykeen_env/lib/python3.9/site-packages/isodate/isodates.py\", line 201, in parse_date\n",
      "    return date(sign * int(groups['year']),\n",
      "ValueError: day is out of range for month\n",
      "Failed to convert Literal lexical form to value. Datatype=http://www.w3.org/2001/XMLSchema#date, Converter=<function parse_date at 0x7f9ca4f30dc0>\n",
      "Traceback (most recent call last):\n",
      "  File \"/Users/roderickvanderweerdt/opt/anaconda3/envs/pykeen_env/lib/python3.9/site-packages/rdflib/term.py\", line 2084, in _castLexicalToPython\n",
      "    return conv_func(lexical)  # type: ignore[arg-type]\n",
      "  File \"/Users/roderickvanderweerdt/opt/anaconda3/envs/pykeen_env/lib/python3.9/site-packages/isodate/isodates.py\", line 203, in parse_date\n",
      "    raise ISO8601Error('Unrecognised ISO 8601 date format: %r' % datestring)\n",
      "isodate.isoerror.ISO8601Error: Unrecognised ISO 8601 date format: '-01-01'\n",
      "Failed to convert Literal lexical form to value. Datatype=http://www.w3.org/2001/XMLSchema#date, Converter=<function parse_date at 0x7f9ca4f30dc0>\n",
      "Traceback (most recent call last):\n",
      "  File \"/Users/roderickvanderweerdt/opt/anaconda3/envs/pykeen_env/lib/python3.9/site-packages/rdflib/term.py\", line 2084, in _castLexicalToPython\n",
      "    return conv_func(lexical)  # type: ignore[arg-type]\n",
      "  File \"/Users/roderickvanderweerdt/opt/anaconda3/envs/pykeen_env/lib/python3.9/site-packages/isodate/isodates.py\", line 201, in parse_date\n",
      "    return date(sign * int(groups['year']),\n",
      "ValueError: month must be in 1..12\n",
      "Failed to convert Literal lexical form to value. Datatype=http://www.w3.org/2001/XMLSchema#date, Converter=<function parse_date at 0x7f9ca4f30dc0>\n",
      "Traceback (most recent call last):\n",
      "  File \"/Users/roderickvanderweerdt/opt/anaconda3/envs/pykeen_env/lib/python3.9/site-packages/rdflib/term.py\", line 2084, in _castLexicalToPython\n",
      "    return conv_func(lexical)  # type: ignore[arg-type]\n",
      "  File \"/Users/roderickvanderweerdt/opt/anaconda3/envs/pykeen_env/lib/python3.9/site-packages/isodate/isodates.py\", line 201, in parse_date\n",
      "    return date(sign * int(groups['year']),\n",
      "ValueError: month must be in 1..12\n",
      "Failed to convert Literal lexical form to value. Datatype=http://www.w3.org/2001/XMLSchema#date, Converter=<function parse_date at 0x7f9ca4f30dc0>\n",
      "Traceback (most recent call last):\n",
      "  File \"/Users/roderickvanderweerdt/opt/anaconda3/envs/pykeen_env/lib/python3.9/site-packages/rdflib/term.py\", line 2084, in _castLexicalToPython\n",
      "    return conv_func(lexical)  # type: ignore[arg-type]\n",
      "  File \"/Users/roderickvanderweerdt/opt/anaconda3/envs/pykeen_env/lib/python3.9/site-packages/isodate/isodates.py\", line 201, in parse_date\n",
      "    return date(sign * int(groups['year']),\n",
      "ValueError: year 0 is out of range\n",
      "Failed to convert Literal lexical form to value. Datatype=http://www.w3.org/2001/XMLSchema#date, Converter=<function parse_date at 0x7f9ca4f30dc0>\n",
      "Traceback (most recent call last):\n",
      "  File \"/Users/roderickvanderweerdt/opt/anaconda3/envs/pykeen_env/lib/python3.9/site-packages/rdflib/term.py\", line 2084, in _castLexicalToPython\n",
      "    return conv_func(lexical)  # type: ignore[arg-type]\n",
      "  File \"/Users/roderickvanderweerdt/opt/anaconda3/envs/pykeen_env/lib/python3.9/site-packages/isodate/isodates.py\", line 201, in parse_date\n",
      "    return date(sign * int(groups['year']),\n",
      "ValueError: day is out of range for month\n"
     ]
    },
    {
     "name": "stderr",
     "output_type": "stream",
     "text": [
      "Failed to convert Literal lexical form to value. Datatype=http://www.w3.org/2001/XMLSchema#date, Converter=<function parse_date at 0x7f9ca4f30dc0>\n",
      "Traceback (most recent call last):\n",
      "  File \"/Users/roderickvanderweerdt/opt/anaconda3/envs/pykeen_env/lib/python3.9/site-packages/rdflib/term.py\", line 2084, in _castLexicalToPython\n",
      "    return conv_func(lexical)  # type: ignore[arg-type]\n",
      "  File \"/Users/roderickvanderweerdt/opt/anaconda3/envs/pykeen_env/lib/python3.9/site-packages/isodate/isodates.py\", line 201, in parse_date\n",
      "    return date(sign * int(groups['year']),\n",
      "ValueError: year 0 is out of range\n",
      "Failed to convert Literal lexical form to value. Datatype=http://www.w3.org/2001/XMLSchema#date, Converter=<function parse_date at 0x7f9ca4f30dc0>\n",
      "Traceback (most recent call last):\n",
      "  File \"/Users/roderickvanderweerdt/opt/anaconda3/envs/pykeen_env/lib/python3.9/site-packages/rdflib/term.py\", line 2084, in _castLexicalToPython\n",
      "    return conv_func(lexical)  # type: ignore[arg-type]\n",
      "  File \"/Users/roderickvanderweerdt/opt/anaconda3/envs/pykeen_env/lib/python3.9/site-packages/isodate/isodates.py\", line 201, in parse_date\n",
      "    return date(sign * int(groups['year']),\n",
      "ValueError: month must be in 1..12\n",
      "Failed to convert Literal lexical form to value. Datatype=http://www.w3.org/2001/XMLSchema#date, Converter=<function parse_date at 0x7f9ca4f30dc0>\n",
      "Traceback (most recent call last):\n",
      "  File \"/Users/roderickvanderweerdt/opt/anaconda3/envs/pykeen_env/lib/python3.9/site-packages/rdflib/term.py\", line 2084, in _castLexicalToPython\n",
      "    return conv_func(lexical)  # type: ignore[arg-type]\n",
      "  File \"/Users/roderickvanderweerdt/opt/anaconda3/envs/pykeen_env/lib/python3.9/site-packages/isodate/isodates.py\", line 201, in parse_date\n",
      "    return date(sign * int(groups['year']),\n",
      "ValueError: month must be in 1..12\n",
      "Failed to convert Literal lexical form to value. Datatype=http://www.w3.org/2001/XMLSchema#date, Converter=<function parse_date at 0x7f9ca4f30dc0>\n",
      "Traceback (most recent call last):\n",
      "  File \"/Users/roderickvanderweerdt/opt/anaconda3/envs/pykeen_env/lib/python3.9/site-packages/rdflib/term.py\", line 2084, in _castLexicalToPython\n",
      "    return conv_func(lexical)  # type: ignore[arg-type]\n",
      "  File \"/Users/roderickvanderweerdt/opt/anaconda3/envs/pykeen_env/lib/python3.9/site-packages/isodate/isodates.py\", line 201, in parse_date\n",
      "    return date(sign * int(groups['year']),\n",
      "ValueError: month must be in 1..12\n",
      "Failed to convert Literal lexical form to value. Datatype=http://www.w3.org/2001/XMLSchema#date, Converter=<function parse_date at 0x7f9ca4f30dc0>\n",
      "Traceback (most recent call last):\n",
      "  File \"/Users/roderickvanderweerdt/opt/anaconda3/envs/pykeen_env/lib/python3.9/site-packages/rdflib/term.py\", line 2084, in _castLexicalToPython\n",
      "    return conv_func(lexical)  # type: ignore[arg-type]\n",
      "  File \"/Users/roderickvanderweerdt/opt/anaconda3/envs/pykeen_env/lib/python3.9/site-packages/isodate/isodates.py\", line 201, in parse_date\n",
      "    return date(sign * int(groups['year']),\n",
      "ValueError: day is out of range for month\n",
      "Failed to convert Literal lexical form to value. Datatype=http://www.w3.org/2001/XMLSchema#date, Converter=<function parse_date at 0x7f9ca4f30dc0>\n",
      "Traceback (most recent call last):\n",
      "  File \"/Users/roderickvanderweerdt/opt/anaconda3/envs/pykeen_env/lib/python3.9/site-packages/rdflib/term.py\", line 2084, in _castLexicalToPython\n",
      "    return conv_func(lexical)  # type: ignore[arg-type]\n",
      "  File \"/Users/roderickvanderweerdt/opt/anaconda3/envs/pykeen_env/lib/python3.9/site-packages/isodate/isodates.py\", line 201, in parse_date\n",
      "    return date(sign * int(groups['year']),\n",
      "ValueError: month must be in 1..12\n",
      "Failed to convert Literal lexical form to value. Datatype=http://www.w3.org/2001/XMLSchema#date, Converter=<function parse_date at 0x7f9ca4f30dc0>\n",
      "Traceback (most recent call last):\n",
      "  File \"/Users/roderickvanderweerdt/opt/anaconda3/envs/pykeen_env/lib/python3.9/site-packages/rdflib/term.py\", line 2084, in _castLexicalToPython\n",
      "    return conv_func(lexical)  # type: ignore[arg-type]\n",
      "  File \"/Users/roderickvanderweerdt/opt/anaconda3/envs/pykeen_env/lib/python3.9/site-packages/isodate/isodates.py\", line 201, in parse_date\n",
      "    return date(sign * int(groups['year']),\n",
      "ValueError: month must be in 1..12\n",
      "Failed to convert Literal lexical form to value. Datatype=http://www.w3.org/2001/XMLSchema#date, Converter=<function parse_date at 0x7f9ca4f30dc0>\n",
      "Traceback (most recent call last):\n",
      "  File \"/Users/roderickvanderweerdt/opt/anaconda3/envs/pykeen_env/lib/python3.9/site-packages/rdflib/term.py\", line 2084, in _castLexicalToPython\n",
      "    return conv_func(lexical)  # type: ignore[arg-type]\n",
      "  File \"/Users/roderickvanderweerdt/opt/anaconda3/envs/pykeen_env/lib/python3.9/site-packages/isodate/isodates.py\", line 201, in parse_date\n",
      "    return date(sign * int(groups['year']),\n",
      "ValueError: month must be in 1..12\n"
     ]
    },
    {
     "name": "stdout",
     "output_type": "stream",
     "text": [
      "--- 140.04820895195007 seconds ---\n"
     ]
    }
   ],
   "source": [
    "import rdflib\n",
    "\n",
    "start_time = time.time()\n",
    "g = rdflib.Graph()\n",
    "g.parse(\"data/dmg777k_stripped_without_thumbs_geo-.nt\")\n",
    "print(\"--- %s seconds ---\" % (time.time() - start_time))"
   ]
  },
  {
   "cell_type": "code",
   "execution_count": 26,
   "id": "1f92a79e",
   "metadata": {
    "scrolled": false
   },
   "outputs": [
    {
     "name": "stdout",
     "output_type": "stream",
     "text": [
      "query returned 1800 results.\n",
      "values for new monuments: 1430 \n",
      "values for previous monuments: 0 \n",
      "multiple values for same monuments: 370\n",
      "monument_val_dict now contains values for 1430 monuments.\n",
      "\n",
      "query returned 5179 results.\n",
      "values for new monuments: 4325 \n",
      "values for previous monuments: 854 \n",
      "multiple values for same monuments: 0\n",
      "monument_val_dict now contains values for 5755 monuments.\n",
      "\n",
      "query returned 8396 results.\n",
      "values for new monuments: 2641 \n",
      "values for previous monuments: 5755 \n",
      "multiple values for same monuments: 0\n",
      "monument_val_dict now contains values for 8396 monuments.\n",
      "\n",
      "--- 0.9246320724487305 seconds ---\n"
     ]
    }
   ],
   "source": [
    "q = \"\"\"\n",
    "SELECT DISTINCT ?monument_uri ?val\n",
    "WHERE {\n",
    "    ?monument_uri <https://data.labs.pdok.nl/rce/def/bouwjaar> ?val .\n",
    "}\n",
    "\"\"\"\n",
    "\n",
    "q_pop = \"\"\"\n",
    "SELECT DISTINCT ?monument_uri ?val\n",
    "WHERE {\n",
    "    ?monument_uri <http://dbpedia.org/ontology/city> ?city .\n",
    "    ?city <http://www.geonames.org/ontology#population> ?val .\n",
    "}\n",
    "\"\"\"\n",
    "\n",
    "q_code = \"\"\"\n",
    "SELECT DISTINCT ?monument_uri ?val\n",
    "WHERE {\n",
    "    ?monument_uri <http://dbpedia.org/ontology/codeNationalMonument> ?val .\n",
    "}\n",
    "\"\"\"\n",
    "\n",
    "#monument_values = {year: <int>, population: <int>, codeNationalMonument: <int>}\n",
    "\n",
    "def add_monument_value(monument_val_dict, value_name, graph, query):\n",
    "    qres = graph.query(query)\n",
    "    print(\"query returned\", len(qres), \"results.\")\n",
    "    new_dict = 0\n",
    "    existing_dict = 0\n",
    "    doubles = 0\n",
    "    for row in qres:\n",
    "        monument_str = str(row.monument_uri)\n",
    "        try:\n",
    "            try:\n",
    "#                 monument_val_dict[monument_str][value_name] = int((int(monument_val_dict[monument_str][value_name]) + int(row.val))/2)\n",
    "                if monument_val_dict[monument_str][value_name] > int(row.val):\n",
    "                    monument_val_dict[monument_str][value_name] = int(row.val)\n",
    "                doubles += 1\n",
    "            except:  \n",
    "                monument_val_dict[monument_str][value_name] = int(row.val)\n",
    "                existing_dict += 1\n",
    "        except:\n",
    "            new_dict += 1\n",
    "            monument_val_dict[monument_str] = {}\n",
    "            monument_val_dict[monument_str][value_name] = int(row.val)\n",
    "    print(\"values for new monuments:\", new_dict, \"\\nvalues for previous monuments:\", existing_dict, \"\\nmultiple values for same monuments:\", doubles)\n",
    "    print(\"monument_val_dict now contains values for\", len(monument_val_dict), \"monuments.\\n\")\n",
    "    return monument_val_dict\n",
    "\n",
    "value_list = [\"year\", \"population\", \"codeNationalMonument\"]\n",
    "query_list = [q, q_pop, q_code]\n",
    "monument_val_dict = {}\n",
    "\n",
    "start_time = time.time()\n",
    "for value_name, query in zip(value_list, query_list):\n",
    "    monument_val_dict = add_monument_value(monument_val_dict, value_name, g, query)\n",
    "print(\"--- %s seconds ---\" % (time.time() - start_time))"
   ]
  },
  {
   "cell_type": "code",
   "execution_count": 14,
   "id": "a70bfb2f",
   "metadata": {},
   "outputs": [],
   "source": [
    "def print_values(val_list, val_dict):\n",
    "    values = \"\"\n",
    "    for val in val_list:\n",
    "        try:\n",
    "            values += str(val_dict[val])+','\n",
    "        except:\n",
    "            values += ','\n",
    "    return values[:-1] #remove last ','\n",
    "        \n",
    "def write_entities_dmg(list_of_entities, list_of_y, val_list, entity_val_dict, new_fn):\n",
    "    un_found = [0,0]\n",
    "    with open(new_fn, 'w') as f:\n",
    "        f.write(\"entity,y,\"+','.join(val_list)+'\\n')\n",
    "        for entity, y in zip(list_of_entities, list_of_y):\n",
    "            try:\n",
    "                f.write(entity+','+str(y)+','+print_values(val_list, entity_val_dict[entity])+'\\n')\n",
    "                un_found[0] += 1\n",
    "            except:\n",
    "                f.write(entity+','+str(y)+','+print_values(val_list, {})+'\\n')\n",
    "#                 print(entity+','+str(y)+','+print_values(val_list, {}))\n",
    "#                 print(\"no values found for entity:\", entity)\n",
    "                un_found[1] += 1\n",
    "    print(\"found values for\", un_found[0], \"entities\")\n",
    "    print(\"couldn't find values for\", un_found[1], \"entities\")"
   ]
  },
  {
   "cell_type": "code",
   "execution_count": 20,
   "id": "1a9d11de",
   "metadata": {},
   "outputs": [
    {
     "name": "stdout",
     "output_type": "stream",
     "text": [
      "found values for 5394 entities\n",
      "couldn't find values for 0 entities\n",
      "found values for 1001 entities\n",
      "couldn't find values for 0 entities\n"
     ]
    }
   ],
   "source": [
    "write_entities_dmg(list_of_uris_train, \n",
    "                   list_of_classes_train, \n",
    "                   value_list, \n",
    "                   monument_val_dict, \n",
    "                   \"data/entities_dmg777k.csv\")\n",
    "\n",
    "write_entities_dmg(list_of_uris, \n",
    "                   list_of_classes, \n",
    "                   value_list, \n",
    "                   monument_val_dict, \n",
    "                   \"data/entities_dmg777k_VALIDATION.csv\")\n"
   ]
  }
 ],
 "metadata": {
  "kernelspec": {
   "display_name": "Python 3 (ipykernel)",
   "language": "python",
   "name": "python3"
  },
  "language_info": {
   "codemirror_mode": {
    "name": "ipython",
    "version": 3
   },
   "file_extension": ".py",
   "mimetype": "text/x-python",
   "name": "python",
   "nbconvert_exporter": "python",
   "pygments_lexer": "ipython3",
   "version": "3.9.19"
  }
 },
 "nbformat": 4,
 "nbformat_minor": 5
}
