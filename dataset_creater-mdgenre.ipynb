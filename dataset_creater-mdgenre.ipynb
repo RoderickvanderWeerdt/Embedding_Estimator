{
 "cells": [
  {
   "cell_type": "code",
   "execution_count": 3,
   "id": "b0421b00",
   "metadata": {},
   "outputs": [
    {
     "name": "stdout",
     "output_type": "stream",
     "text": [
      "loaded data mdgenre (54.48s).\n"
     ]
    }
   ],
   "source": [
    "import kgbench as kg\n",
    "\n",
    "data = kg.load('mdgenre') # Load with numpy arrays, and train/validation split"
   ]
  },
  {
   "cell_type": "code",
   "execution_count": 4,
   "id": "eb6ec17d",
   "metadata": {},
   "outputs": [
    {
     "name": "stdout",
     "output_type": "stream",
     "text": [
      "12\n",
      "['iri', 'http://kgbench.info/dt#base64Image', 'http://www.w3.org/1999/02/22-rdf-syntax-ns#langString', 'http://www.w3.org/2001/XMLSchema#dateTime', 'http://www.w3.org/2001/XMLSchema#decimal', 'http://www.w3.org/2001/XMLSchema#string']\n"
     ]
    }
   ],
   "source": [
    "print(data.num_classes)\n",
    "print(data.datatypes())"
   ]
  },
  {
   "cell_type": "code",
   "execution_count": 5,
   "id": "ce796961",
   "metadata": {},
   "outputs": [
    {
     "data": {
      "text/plain": [
       "array([[263997,      1],\n",
       "       [139883,      9],\n",
       "       [220756,     11],\n",
       "       [233568,      2],\n",
       "       [141778,      5],\n",
       "       [218163,      2],\n",
       "       [147763,      4],\n",
       "       [149772,     11],\n",
       "       [155895,      2],\n",
       "       [184777,      2],\n",
       "       [118631,      2],\n",
       "       [218571,      6],\n",
       "       [255150,      2],\n",
       "       [219682,     11],\n",
       "       [155134,     11]], dtype=int32)"
      ]
     },
     "execution_count": 5,
     "metadata": {},
     "output_type": "execute_result"
    }
   ],
   "source": [
    "data.withheld[:15]"
   ]
  },
  {
   "cell_type": "code",
   "execution_count": 6,
   "id": "05e637ae",
   "metadata": {},
   "outputs": [],
   "source": [
    "def create_uri_classes_lists(data, data_set):\n",
    "    list_of_uris = []\n",
    "    list_of_classes=[]\n",
    "    for data_instance in data_set:\n",
    "    #     print(data_instance)\n",
    "        list_of_uris.append(data.i2e[data_instance[0]][0])\n",
    "        list_of_classes.append(data_instance[1])\n",
    "    return list_of_uris, list_of_classes"
   ]
  },
  {
   "cell_type": "code",
   "execution_count": 7,
   "id": "d000e09f",
   "metadata": {},
   "outputs": [],
   "source": [
    "list_of_uris_train, list_of_classes_train = create_uri_classes_lists(data, data.training)"
   ]
  },
  {
   "cell_type": "code",
   "execution_count": 8,
   "id": "7c4f98ee",
   "metadata": {},
   "outputs": [],
   "source": [
    "list_of_uris, list_of_classes = create_uri_classes_lists(data, data.withheld)"
   ]
  },
  {
   "cell_type": "code",
   "execution_count": 9,
   "id": "b4a53fbe",
   "metadata": {},
   "outputs": [
    {
     "name": "stdout",
     "output_type": "stream",
     "text": [
      "witheld:\n",
      "http://www.wikidata.org/entity/Q86081603 1\n",
      "http://www.wikidata.org/entity/Q1894071 9\n",
      "http://www.wikidata.org/entity/Q5352076 11\n",
      "500 500\n",
      "train:\n",
      "http://www.wikidata.org/entity/Q602283 2\n",
      "http://www.wikidata.org/entity/Q987943 2\n",
      "http://www.wikidata.org/entity/Q18198101 11\n",
      "4863 4863\n"
     ]
    }
   ],
   "source": [
    "def show_lists(list1, list2):\n",
    "    for i, (uri, y) in enumerate(zip(list1, list2)):\n",
    "        print(uri, y)\n",
    "        if i > 1:\n",
    "            break\n",
    "    print(len(list1), len(list2))\n",
    "\n",
    "print(\"witheld:\")\n",
    "show_lists(list_of_uris, list_of_classes)\n",
    "print(\"train:\")\n",
    "show_lists(list_of_uris_train, list_of_classes_train)\n"
   ]
  },
  {
   "cell_type": "code",
   "execution_count": 10,
   "id": "588f0f44",
   "metadata": {},
   "outputs": [
    {
     "data": {
      "text/plain": [
       "('http://www.wikidata.org/entity/Q16424132', 'iri')"
      ]
     },
     "execution_count": 10,
     "metadata": {},
     "output_type": "execute_result"
    }
   ],
   "source": [
    "data.i2e[127365]"
   ]
  },
  {
   "cell_type": "code",
   "execution_count": 1,
   "id": "597bad3c",
   "metadata": {},
   "outputs": [],
   "source": [
    "import time"
   ]
  },
  {
   "cell_type": "code",
   "execution_count": 2,
   "id": "677abf00",
   "metadata": {
    "collapsed": true
   },
   "outputs": [
    {
     "name": "stderr",
     "output_type": "stream",
     "text": [
      "Failed to convert Literal lexical form to value. Datatype=http://www.w3.org/2001/XMLSchema#date, Converter=<function parse_date at 0x7fe9da1cc940>\n",
      "Traceback (most recent call last):\n",
      "  File \"/Users/roderickvanderweerdt/opt/anaconda3/envs/pykeen_env/lib/python3.9/site-packages/rdflib/term.py\", line 2084, in _castLexicalToPython\n",
      "    return conv_func(lexical)  # type: ignore[arg-type]\n",
      "  File \"/Users/roderickvanderweerdt/opt/anaconda3/envs/pykeen_env/lib/python3.9/site-packages/isodate/isodates.py\", line 203, in parse_date\n",
      "    raise ISO8601Error('Unrecognised ISO 8601 date format: %r' % datestring)\n",
      "isodate.isoerror.ISO8601Error: Unrecognised ISO 8601 date format: '-0800-01-01T00:00:00Z'\n",
      "Failed to convert Literal lexical form to value. Datatype=http://www.w3.org/2001/XMLSchema#date, Converter=<function parse_date at 0x7fe9da1cc940>\n",
      "Traceback (most recent call last):\n",
      "  File \"/Users/roderickvanderweerdt/opt/anaconda3/envs/pykeen_env/lib/python3.9/site-packages/rdflib/term.py\", line 2084, in _castLexicalToPython\n",
      "    return conv_func(lexical)  # type: ignore[arg-type]\n",
      "  File \"/Users/roderickvanderweerdt/opt/anaconda3/envs/pykeen_env/lib/python3.9/site-packages/isodate/isodates.py\", line 203, in parse_date\n",
      "    raise ISO8601Error('Unrecognised ISO 8601 date format: %r' % datestring)\n",
      "isodate.isoerror.ISO8601Error: Unrecognised ISO 8601 date format: '-0495-01-01T00:00:00Z'\n",
      "Failed to convert Literal lexical form to value. Datatype=http://www.w3.org/2001/XMLSchema#date, Converter=<function parse_date at 0x7fe9da1cc940>\n",
      "Traceback (most recent call last):\n",
      "  File \"/Users/roderickvanderweerdt/opt/anaconda3/envs/pykeen_env/lib/python3.9/site-packages/rdflib/term.py\", line 2084, in _castLexicalToPython\n",
      "    return conv_func(lexical)  # type: ignore[arg-type]\n",
      "  File \"/Users/roderickvanderweerdt/opt/anaconda3/envs/pykeen_env/lib/python3.9/site-packages/isodate/isodates.py\", line 203, in parse_date\n",
      "    raise ISO8601Error('Unrecognised ISO 8601 date format: %r' % datestring)\n",
      "isodate.isoerror.ISO8601Error: Unrecognised ISO 8601 date format: '-0405-01-01T00:00:00Z'\n",
      "Failed to convert Literal lexical form to value. Datatype=http://www.w3.org/2001/XMLSchema#date, Converter=<function parse_date at 0x7fe9da1cc940>\n",
      "Traceback (most recent call last):\n",
      "  File \"/Users/roderickvanderweerdt/opt/anaconda3/envs/pykeen_env/lib/python3.9/site-packages/rdflib/term.py\", line 2084, in _castLexicalToPython\n",
      "    return conv_func(lexical)  # type: ignore[arg-type]\n",
      "  File \"/Users/roderickvanderweerdt/opt/anaconda3/envs/pykeen_env/lib/python3.9/site-packages/isodate/isodates.py\", line 203, in parse_date\n",
      "    raise ISO8601Error('Unrecognised ISO 8601 date format: %r' % datestring)\n",
      "isodate.isoerror.ISO8601Error: Unrecognised ISO 8601 date format: '-0070-04-01T00:00:00Z'\n",
      "Failed to convert Literal lexical form to value. Datatype=http://www.w3.org/2001/XMLSchema#date, Converter=<function parse_date at 0x7fe9da1cc940>\n",
      "Traceback (most recent call last):\n",
      "  File \"/Users/roderickvanderweerdt/opt/anaconda3/envs/pykeen_env/lib/python3.9/site-packages/rdflib/term.py\", line 2084, in _castLexicalToPython\n",
      "    return conv_func(lexical)  # type: ignore[arg-type]\n",
      "  File \"/Users/roderickvanderweerdt/opt/anaconda3/envs/pykeen_env/lib/python3.9/site-packages/isodate/isodates.py\", line 203, in parse_date\n",
      "    raise ISO8601Error('Unrecognised ISO 8601 date format: %r' % datestring)\n",
      "isodate.isoerror.ISO8601Error: Unrecognised ISO 8601 date format: '-0183-01-01T00:00:00Z'\n",
      "Failed to convert Literal lexical form to value. Datatype=http://www.w3.org/2001/XMLSchema#date, Converter=<function parse_date at 0x7fe9da1cc940>\n",
      "Traceback (most recent call last):\n",
      "  File \"/Users/roderickvanderweerdt/opt/anaconda3/envs/pykeen_env/lib/python3.9/site-packages/rdflib/term.py\", line 2084, in _castLexicalToPython\n",
      "    return conv_func(lexical)  # type: ignore[arg-type]\n",
      "  File \"/Users/roderickvanderweerdt/opt/anaconda3/envs/pykeen_env/lib/python3.9/site-packages/isodate/isodates.py\", line 203, in parse_date\n",
      "    raise ISO8601Error('Unrecognised ISO 8601 date format: %r' % datestring)\n",
      "isodate.isoerror.ISO8601Error: Unrecognised ISO 8601 date format: '-0200-01-01T00:00:00Z'\n",
      "Failed to convert Literal lexical form to value. Datatype=http://www.w3.org/2001/XMLSchema#date, Converter=<function parse_date at 0x7fe9da1cc940>\n",
      "Traceback (most recent call last):\n",
      "  File \"/Users/roderickvanderweerdt/opt/anaconda3/envs/pykeen_env/lib/python3.9/site-packages/rdflib/term.py\", line 2084, in _castLexicalToPython\n",
      "    return conv_func(lexical)  # type: ignore[arg-type]\n",
      "  File \"/Users/roderickvanderweerdt/opt/anaconda3/envs/pykeen_env/lib/python3.9/site-packages/isodate/isodates.py\", line 203, in parse_date\n",
      "    raise ISO8601Error('Unrecognised ISO 8601 date format: %r' % datestring)\n",
      "isodate.isoerror.ISO8601Error: Unrecognised ISO 8601 date format: '-0405-01-01T00:00:00Z'\n",
      "Failed to convert Literal lexical form to value. Datatype=http://www.w3.org/2001/XMLSchema#date, Converter=<function parse_date at 0x7fe9da1cc940>\n",
      "Traceback (most recent call last):\n",
      "  File \"/Users/roderickvanderweerdt/opt/anaconda3/envs/pykeen_env/lib/python3.9/site-packages/rdflib/term.py\", line 2084, in _castLexicalToPython\n",
      "    return conv_func(lexical)  # type: ignore[arg-type]\n",
      "  File \"/Users/roderickvanderweerdt/opt/anaconda3/envs/pykeen_env/lib/python3.9/site-packages/isodate/isodates.py\", line 203, in parse_date\n",
      "    raise ISO8601Error('Unrecognised ISO 8601 date format: %r' % datestring)\n",
      "isodate.isoerror.ISO8601Error: Unrecognised ISO 8601 date format: '-0479-01-01T00:00:00Z'\n",
      "Failed to convert Literal lexical form to value. Datatype=http://www.w3.org/2001/XMLSchema#date, Converter=<function parse_date at 0x7fe9da1cc940>\n",
      "Traceback (most recent call last):\n",
      "  File \"/Users/roderickvanderweerdt/opt/anaconda3/envs/pykeen_env/lib/python3.9/site-packages/rdflib/term.py\", line 2084, in _castLexicalToPython\n",
      "    return conv_func(lexical)  # type: ignore[arg-type]\n",
      "  File \"/Users/roderickvanderweerdt/opt/anaconda3/envs/pykeen_env/lib/python3.9/site-packages/isodate/isodates.py\", line 203, in parse_date\n",
      "    raise ISO8601Error('Unrecognised ISO 8601 date format: %r' % datestring)\n",
      "isodate.isoerror.ISO8601Error: Unrecognised ISO 8601 date format: '-0108-01-01T00:00:00Z'\n",
      "Failed to convert Literal lexical form to value. Datatype=http://www.w3.org/2001/XMLSchema#date, Converter=<function parse_date at 0x7fe9da1cc940>\n",
      "Traceback (most recent call last):\n",
      "  File \"/Users/roderickvanderweerdt/opt/anaconda3/envs/pykeen_env/lib/python3.9/site-packages/rdflib/term.py\", line 2084, in _castLexicalToPython\n",
      "    return conv_func(lexical)  # type: ignore[arg-type]\n",
      "  File \"/Users/roderickvanderweerdt/opt/anaconda3/envs/pykeen_env/lib/python3.9/site-packages/isodate/isodates.py\", line 203, in parse_date\n",
      "    raise ISO8601Error('Unrecognised ISO 8601 date format: %r' % datestring)\n",
      "isodate.isoerror.ISO8601Error: Unrecognised ISO 8601 date format: '-0100-01-01T00:00:00Z'\n",
      "Failed to convert Literal lexical form to value. Datatype=http://www.w3.org/2001/XMLSchema#date, Converter=<function parse_date at 0x7fe9da1cc940>\n",
      "Traceback (most recent call last):\n",
      "  File \"/Users/roderickvanderweerdt/opt/anaconda3/envs/pykeen_env/lib/python3.9/site-packages/rdflib/term.py\", line 2084, in _castLexicalToPython\n",
      "    return conv_func(lexical)  # type: ignore[arg-type]\n",
      "  File \"/Users/roderickvanderweerdt/opt/anaconda3/envs/pykeen_env/lib/python3.9/site-packages/isodate/isodates.py\", line 203, in parse_date\n",
      "    raise ISO8601Error('Unrecognised ISO 8601 date format: %r' % datestring)\n",
      "isodate.isoerror.ISO8601Error: Unrecognised ISO 8601 date format: '-0249-01-01T00:00:00Z'\n",
      "Failed to convert Literal lexical form to value. Datatype=http://www.w3.org/2001/XMLSchema#date, Converter=<function parse_date at 0x7fe9da1cc940>\n",
      "Traceback (most recent call last):\n",
      "  File \"/Users/roderickvanderweerdt/opt/anaconda3/envs/pykeen_env/lib/python3.9/site-packages/rdflib/term.py\", line 2084, in _castLexicalToPython\n",
      "    return conv_func(lexical)  # type: ignore[arg-type]\n",
      "  File \"/Users/roderickvanderweerdt/opt/anaconda3/envs/pykeen_env/lib/python3.9/site-packages/isodate/isodates.py\", line 203, in parse_date\n",
      "    raise ISO8601Error('Unrecognised ISO 8601 date format: %r' % datestring)\n",
      "isodate.isoerror.ISO8601Error: Unrecognised ISO 8601 date format: '-0900-01-01T00:00:00Z'\n"
     ]
    },
    {
     "name": "stdout",
     "output_type": "stream",
     "text": [
      "--- 44.03610324859619 seconds ---\n"
     ]
    }
   ],
   "source": [
    "import rdflib\n",
    "start_time = time.time()\n",
    "g = rdflib.Graph()\n",
    "g.parse(\"data/md_raw_without_Images-.nt\")\n",
    "print(\"--- %s seconds ---\" % (time.time() - start_time))"
   ]
  },
  {
   "cell_type": "code",
   "execution_count": 11,
   "id": "cf1a1534",
   "metadata": {},
   "outputs": [
    {
     "name": "stdout",
     "output_type": "stream",
     "text": [
      "(rdflib.term.URIRef('http://www.wikidata.org/entity/Q2549028'), rdflib.term.Literal('20', datatype=rdflib.term.URIRef('http://www.w3.org/2001/XMLSchema#decimal')))\n"
     ]
    }
   ],
   "source": [
    "q_duration = \"\"\"\n",
    "SELECT DISTINCT ?movie_uri ?val\n",
    "WHERE {\n",
    "    ?movie_uri <http://www.wikidata.org/prop/direct/P2047> ?val .\n",
    "}\n",
    "\"\"\"\n",
    "\n",
    "q_props = \"\"\"\n",
    "SELECT DISTINCT ?z\n",
    "WHERE {\n",
    "  ?x a ?z .\n",
    "}\n",
    "\"\"\"\n",
    "\n",
    "def run_query(graph, query):\n",
    "    qres = graph.query(query)\n",
    "    for row in qres:\n",
    "        print(row)\n",
    "        break\n",
    "        \n",
    "run_query(g, q_duration)"
   ]
  },
  {
   "cell_type": "code",
   "execution_count": 12,
   "id": "1f92a79e",
   "metadata": {},
   "outputs": [
    {
     "name": "stdout",
     "output_type": "stream",
     "text": [
      "query returned 8163 results.\n",
      "values for new entity: 8099 \n",
      "values for previous entities: 0 \n",
      "multiple values for same entities: 64\n",
      "entity_val_dict now contains values for 8099 entities.\n",
      "\n",
      "query returned 844 results.\n",
      "values for new entity: 2 \n",
      "values for previous entities: 787 \n",
      "multiple values for same entities: 55\n",
      "entity_val_dict now contains values for 8101 entities.\n",
      "\n",
      "query returned 698 results.\n",
      "values for new entity: 0 \n",
      "values for previous entities: 696 \n",
      "multiple values for same entities: 2\n",
      "entity_val_dict now contains values for 8101 entities.\n",
      "\n",
      "--- 0.4757988452911377 seconds ---\n"
     ]
    }
   ],
   "source": [
    "q = \"\"\"\n",
    "SELECT DISTINCT ?entity_uri ?val\n",
    "WHERE {{\n",
    "    ?entity_uri {} ?val .\n",
    "}}\n",
    "\"\"\"\n",
    "\n",
    "\n",
    "#monument_values = {year: <int>, population: <int>, codeNationalMonument: <int>}\n",
    "#movie_values = {duration: <decimal>, boxoffice: <decimal>}\n",
    "def add_entity_value(entity_val_dict, value_name, graph, query):\n",
    "    qres = graph.query(query)\n",
    "    print(\"query returned\", len(qres), \"results.\")\n",
    "    new_dict = 0\n",
    "    existing_dict = 0\n",
    "    doubles = 0\n",
    "    for row in qres:\n",
    "        entity_str = str(row.entity_uri)\n",
    "        try:\n",
    "            try:\n",
    "#                 monument_val_dict[monument_str][value_name] = int((int(monument_val_dict[monument_str][value_name]) + int(row.val))/2)\n",
    "                if entity_val_dict[entity_str][value_name] > float(row.val):\n",
    "                    entity_val_dict[entity_str][value_name] = float(row.val)\n",
    "#                 print(entity_val_dict[entity_str][value_name], row.val)\n",
    "                doubles += 1\n",
    "            except:\n",
    "                entity_val_dict[entity_str][value_name] = float(row.val)\n",
    "                existing_dict += 1\n",
    "        except:\n",
    "            new_dict += 1\n",
    "            entity_val_dict[entity_str] = {}\n",
    "            entity_val_dict[entity_str][value_name] = float(row.val)\n",
    "    print(\"values for new entity:\", new_dict, \"\\nvalues for previous entities:\", existing_dict, \"\\nmultiple values for same entities:\", doubles)\n",
    "    print(\"entity_val_dict now contains values for\", len(entity_val_dict), \"entities.\\n\")\n",
    "    return entity_val_dict\n",
    "\n",
    "value_list = [\"duration\", \"boxoffice\", \"cost\"]\n",
    "props_list = [\"<http://www.wikidata.org/prop/direct/P2047>\", \"<http://www.wikidata.org/prop/direct/P2142>\", \"<http://www.wikidata.org/prop/direct/P2130>\"]\n",
    "entity_val_dict = {}\n",
    "start_time = time.time()\n",
    "for value_name, prop in zip(value_list, props_list):\n",
    "    entity_val_dict = add_entity_value(entity_val_dict, value_name, g, q.format(prop))\n",
    "print(\"--- %s seconds ---\" % (time.time() - start_time))"
   ]
  },
  {
   "cell_type": "code",
   "execution_count": 13,
   "id": "a70bfb2f",
   "metadata": {},
   "outputs": [],
   "source": [
    "def print_values(val_list, val_dict):\n",
    "    values = \"\"\n",
    "    for val in val_list:\n",
    "        try:\n",
    "            values += str(val_dict[val])+','\n",
    "        except:\n",
    "            values += ','\n",
    "    return values[:-1] #remove last ','\n",
    "        \n",
    "def write_entities_md(list_of_entities, list_of_y, val_list, entity_val_dict, new_fn):\n",
    "    un_found = [0,0]\n",
    "    with open(new_fn, 'w') as f:\n",
    "        f.write(\"entity,y,\"+','.join(val_list)+'\\n')\n",
    "        for entity, y in zip(list_of_entities, list_of_y):\n",
    "            try:\n",
    "                f.write(entity+','+str(y)+','+print_values(val_list, entity_val_dict[entity])+'\\n')\n",
    "                un_found[0] += 1\n",
    "            except:\n",
    "                f.write(entity+','+str(y)+','+print_values(val_list, {})+'\\n')\n",
    "#                 print(entity+','+str(y)+','+print_values(val_list, {}))\n",
    "#                 print(\"no values found for entity:\", entity)\n",
    "                un_found[1] += 1\n",
    "    print(\"found values for\", un_found[0], \"entities\")\n",
    "    print(\"couldn't find values for\", un_found[1], \"entities\")"
   ]
  },
  {
   "cell_type": "code",
   "execution_count": 14,
   "id": "1a9d11de",
   "metadata": {},
   "outputs": [
    {
     "name": "stdout",
     "output_type": "stream",
     "text": [
      "found values for 4236 entities\n",
      "couldn't find values for 627 entities\n",
      "found values for 426 entities\n",
      "couldn't find values for 74 entities\n"
     ]
    }
   ],
   "source": [
    "write_entities_md(list_of_uris_train, \n",
    "                   list_of_classes_train, \n",
    "                   value_list, \n",
    "                   entity_val_dict, \n",
    "                   \"data/entities_md_raw_TRAIN.csv\")\n",
    "\n",
    "write_entities_md(list_of_uris, \n",
    "                   list_of_classes, \n",
    "                   value_list, \n",
    "                   entity_val_dict,\n",
    "                   \"data/entities_md_raw_VALIDATION.csv\")\n"
   ]
  }
 ],
 "metadata": {
  "kernelspec": {
   "display_name": "Python 3 (ipykernel)",
   "language": "python",
   "name": "python3"
  },
  "language_info": {
   "codemirror_mode": {
    "name": "ipython",
    "version": 3
   },
   "file_extension": ".py",
   "mimetype": "text/x-python",
   "name": "python",
   "nbconvert_exporter": "python",
   "pygments_lexer": "ipython3",
   "version": "3.9.19"
  }
 },
 "nbformat": 4,
 "nbformat_minor": 5
}
