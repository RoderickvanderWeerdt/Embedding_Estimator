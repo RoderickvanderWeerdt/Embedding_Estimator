{
 "cells": [
  {
   "cell_type": "code",
   "execution_count": 9,
   "id": "677abf00",
   "metadata": {},
   "outputs": [
    {
     "name": "stdout",
     "output_type": "stream",
     "text": [
      "--- 44.51055693626404 seconds ---\n"
     ]
    }
   ],
   "source": [
    "import time\n",
    "import rdflib\n",
    "\n",
    "start_time = time.time()\n",
    "g = rdflib.Graph()\n",
    "g.parse(\"data/111111111.ttl\")\n",
    "print(\"--- %s seconds ---\" % (time.time() - start_time))"
   ]
  },
  {
   "cell_type": "code",
   "execution_count": 10,
   "id": "e8f7d357",
   "metadata": {},
   "outputs": [
    {
     "name": "stdout",
     "output_type": "stream",
     "text": [
      "0     2016-03-29T18:00:00\n",
      "1     2016-03-29T19:00:00\n",
      "2     2016-03-29T20:00:00\n",
      "3     2016-03-29T21:00:00\n",
      "4     2016-03-29T22:00:00\n",
      "             ...         \n",
      "95    2016-04-02T17:00:00\n",
      "96    2016-04-02T18:00:00\n",
      "97    2016-04-02T19:00:00\n",
      "98    2016-04-02T20:00:00\n",
      "99    2016-04-02T21:00:00\n",
      "Name: timestamp, Length: 100, dtype: object\n"
     ]
    }
   ],
   "source": [
    "import pandas as pd\n",
    "\n",
    "opsd_entities = pd.read_csv(\"data/large_german_w_labels_THURSDAY_for_update_subset0.csv\")\n",
    "print(opsd_entities['timestamp'])"
   ]
  },
  {
   "cell_type": "code",
   "execution_count": null,
   "id": "766c27ea",
   "metadata": {},
   "outputs": [],
   "source": [
    "\"<https://interconnectproject.eu/example/DEKNres4_DW_measurement_2016-03-29T21:00:00>\""
   ]
  },
  {
   "cell_type": "code",
   "execution_count": 21,
   "id": "11b866b7",
   "metadata": {},
   "outputs": [
    {
     "name": "stdout",
     "output_type": "stream",
     "text": [
      "--- 0.3779456615447998 seconds ---\n"
     ]
    }
   ],
   "source": [
    "q = \"\"\"\n",
    "SELECT DISTINCT ?device_uri ?val\n",
    "WHERE {{\n",
    "    ?measurement_uri ic:measuredAtTime {} .\n",
    "    ?measurement_uri saref:hasValue ?val .\n",
    "    ?measurement_uri saref:measurementMadeBy ?device_uri .\n",
    "}}\n",
    "\"\"\"\n",
    "\n",
    "# qres = g.query(q.format(\"<2016-03-29T21:00:00>\"))\n",
    "\n",
    "# for row in qres:\n",
    "#     print(str(row.device_uri), row.val)\n",
    "\n",
    "\n",
    "def get_values_for_timestamp(graph, query):\n",
    "    qres = graph.query(query)\n",
    "#     print(\"query returned\", len(qres), \"results.\")\n",
    "    devices_values_dict = {}\n",
    "    for row in qres:\n",
    "        device_uri = str(row.device_uri)\n",
    "        devices_values_dict[device_uri] = float(row.val)\n",
    "    return devices_values_dict\n",
    "\n",
    "entity_val_dict = {}\n",
    "start_time = time.time()\n",
    "for timestamp in opsd_entities['timestamp']:\n",
    "# for value_name, prop in zip(value_list, props_list):\n",
    "    entity_val_dict[timestamp] = get_values_for_timestamp(g, q.format('<'+timestamp+'>'))\n",
    "print(\"--- %s seconds ---\" % (time.time() - start_time))"
   ]
  },
  {
   "cell_type": "code",
   "execution_count": null,
   "id": "15e8ce94",
   "metadata": {},
   "outputs": [],
   "source": []
  }
 ],
 "metadata": {
  "kernelspec": {
   "display_name": "Python 3 (ipykernel)",
   "language": "python",
   "name": "python3"
  },
  "language_info": {
   "codemirror_mode": {
    "name": "ipython",
    "version": 3
   },
   "file_extension": ".py",
   "mimetype": "text/x-python",
   "name": "python",
   "nbconvert_exporter": "python",
   "pygments_lexer": "ipython3",
   "version": "3.9.19"
  }
 },
 "nbformat": 4,
 "nbformat_minor": 5
}
